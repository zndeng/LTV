{
 "cells": [
  {
   "cell_type": "code",
   "execution_count": null,
   "metadata": {},
   "outputs": [],
   "source": [
    "from scipy.interpolate import interp1d\n",
    "import statsmodels.api as sm\n",
    "\n",
    "# Model out the historical ltv in any given month, and fit them with the LOESS regression\n",
    "# lowess will return \"smoothed\" data with a y value for every x-value\n",
    "ltv_fit = sm.nonparametric.lowess(df_fitdata.ltv, df_fitdata.month)\n",
    "\n",
    "# Unpack the lowess smoothed points to their values\n",
    "lowess_x = [x for x in zip(*ltv_fit)][0]\n",
    "lowess_y = [x for x in zip(*ltv_fit)][1]\n",
    "\n",
    "# Run scipy's interpolation, and this will generate y values for any x values by our interpolator\n",
    "# But it will miss values outside of the x value window \n",
    "# We can easily extend the estimates outside the x boundaries based on the patterns found here\n",
    "\n",
    "f = interp1d(lowess_x, lowess_y, bounds_error=False)"
   ]
  }
 ],
 "metadata": {
  "kernelspec": {
   "display_name": "Python 3",
   "language": "python",
   "name": "python3"
  },
  "language_info": {
   "codemirror_mode": {
    "name": "ipython",
    "version": 3
   },
   "file_extension": ".py",
   "mimetype": "text/x-python",
   "name": "python",
   "nbconvert_exporter": "python",
   "pygments_lexer": "ipython3",
   "version": "3.6.9"
  }
 },
 "nbformat": 4,
 "nbformat_minor": 4
}
